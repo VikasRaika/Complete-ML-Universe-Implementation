{
 "cells": [
  {
   "cell_type": "markdown",
   "id": "9888c981",
   "metadata": {},
   "source": [
    "# Unsupervised Learning with the Iris Dataset\n",
    "\n",
    "This notebook demonstrates various unsupervised learning models using the Iris dataset. We'll cover:\n",
    "1. Data loading and exploration\n",
    "2. Dimensionality reduction (PCA)\n",
    "3. Clustering algorithms\n",
    "4. Model evaluation and visualization"
   ]
  },
  {
   "cell_type": "code",
   "execution_count": null,
   "id": "26558259",
   "metadata": {},
   "outputs": [],
   "source": [
    "import numpy as np\n",
    "import pandas as pd\n",
    "import matplotlib.pyplot as plt\n",
    "import seaborn as sns\n",
    "from sklearn.datasets import load_iris\n",
    "from sklearn.preprocessing import StandardScaler\n",
    "from sklearn.decomposition import PCA\n",
    "from sklearn.cluster import KMeans, DBSCAN, AgglomerativeClustering\n",
    "from sklearn.metrics import silhouette_score, adjusted_rand_score\n",
    "\n",
    "# Set random seed for reproducibility\n",
    "np.random.seed(42)\n",
    "\n",
    "# Set style for plots\n",
    "plt.style.use('seaborn')\n",
    "sns.set_palette('husl')"
   ]
  },
  {
   "cell_type": "code",
   "execution_count": null,
   "id": "f00ca7bc",
   "metadata": {},
   "outputs": [],
   "source": [
    "# Load the Iris dataset\n",
    "iris = load_iris()\n",
    "X = iris.data\n",
    "y = iris.target\n",
    "feature_names = iris.feature_names\n",
    "target_names = iris.target_names\n",
    "\n",
    "# Create a DataFrame for easier visualization\n",
    "df = pd.DataFrame(X, columns=feature_names)\n",
    "df['species'] = [target_names[i] for i in y]\n",
    "\n",
    "# Display basic information\n",
    "print(f\"Number of samples: {len(df)}\")\n",
    "print(f\"Number of features: {len(feature_names)}\")\n",
    "print(f\"Target classes: {target_names}\")\n",
    "print(\"\\nFirst few rows of the dataset:\")\n",
    "df.head()"
   ]
  },
  {
   "cell_type": "code",
   "execution_count": null,
   "id": "8c6c26d8",
   "metadata": {},
   "outputs": [],
   "source": [
    "# Standardize the features\n",
    "scaler = StandardScaler()\n",
    "X_scaled = scaler.fit_transform(X)"
   ]
  },
  {
   "cell_type": "code",
   "execution_count": null,
   "id": "542520d7",
   "metadata": {},
   "outputs": [],
   "source": [
    "# Perform PCA\n",
    "pca = PCA(n_components=2)\n",
    "X_pca = pca.fit_transform(X_scaled)\n",
    "\n",
    "# Create a DataFrame with PCA results\n",
    "pca_df = pd.DataFrame(X_pca, columns=['PC1', 'PC2'])\n",
    "pca_df['species'] = df['species']\n",
    "\n",
    "# Plot the PCA results\n",
    "plt.figure(figsize=(10, 8))\n",
    "sns.scatterplot(x='PC1', y='PC2', hue='species', data=pca_df)\n",
    "plt.title('PCA of Iris Dataset')\n",
    "plt.show()"
   ]
  },
  {
   "cell_type": "code",
   "execution_count": null,
   "id": "a65d5388",
   "metadata": {},
   "outputs": [],
   "source": [
    "# K-means clustering\n",
    "kmeans = KMeans(n_clusters=3, random_state=42)\n",
    "kmeans_labels = kmeans.fit_predict(X_scaled)\n",
    "\n",
    "# Plot K-means results\n",
    "plt.figure(figsize=(10, 8))\n",
    "sns.scatterplot(x='PC1', y='PC2', hue=kmeans_labels, data=pca_df)\n",
    "plt.title('K-means Clustering Results')\n",
    "plt.show()"
   ]
  },
  {
   "cell_type": "code",
   "execution_count": null,
   "id": "c3dccc30",
   "metadata": {},
   "outputs": [],
   "source": [
    "# DBSCAN clustering\n",
    "dbscan = DBSCAN(eps=0.5, min_samples=5)\n",
    "dbscan_labels = dbscan.fit_predict(X_scaled)\n",
    "\n",
    "# Plot DBSCAN results\n",
    "plt.figure(figsize=(10, 8))\n",
    "sns.scatterplot(x='PC1', y='PC2', hue=dbscan_labels, data=pca_df)\n",
    "plt.title('DBSCAN Clustering Results')\n",
    "plt.show()"
   ]
  },
  {
   "cell_type": "code",
   "execution_count": null,
   "id": "6379a024",
   "metadata": {},
   "outputs": [],
   "source": [
    "# Hierarchical clustering\n",
    "hierarchical = AgglomerativeClustering(n_clusters=3)\n",
    "hierarchical_labels = hierarchical.fit_predict(X_scaled)\n",
    "\n",
    "# Plot hierarchical clustering results\n",
    "plt.figure(figsize=(10, 8))\n",
    "sns.scatterplot(x='PC1', y='PC2', hue=hierarchical_labels, data=pca_df)\n",
    "plt.title('Hierarchical Clustering Results')\n",
    "plt.show()"
   ]
  },
  {
   "cell_type": "code",
   "execution_count": null,
   "id": "db186400",
   "metadata": {},
   "outputs": [],
   "source": [
    "# Model evaluation\n",
    "print(\"Clustering Evaluation Metrics:\")\n",
    "print(\"\\nK-means:\")\n",
    "print(f\"Silhouette Score: {silhouette_score(X_scaled, kmeans_labels):.4f}\")\n",
    "print(f\"Adjusted Rand Score: {adjusted_rand_score(y, kmeans_labels):.4f}\")\n",
    "\n",
    "print(\"\\nDBSCAN:\")\n",
    "print(f\"Silhouette Score: {silhouette_score(X_scaled, dbscan_labels):.4f}\")\n",
    "print(f\"Adjusted Rand Score: {adjusted_rand_score(y, dbscan_labels):.4f}\")\n",
    "\n",
    "print(\"\\nHierarchical Clustering:\")\n",
    "print(f\"Silhouette Score: {silhouette_score(X_scaled, hierarchical_labels):.4f}\")\n",
    "print(f\"Adjusted Rand Score: {adjusted_rand_score(y, hierarchical_labels):.4f}\")"
   ]
  },
  {
   "cell_type": "code",
   "execution_count": null,
   "id": "49b4c5cf",
   "metadata": {},
   "outputs": [],
   "source": [
    "# Elbow method for K-means\n",
    "inertia = []\n",
    "for k in range(1, 11):\n",
    "    kmeans = KMeans(n_clusters=k, random_state=42)\n",
    "    kmeans.fit(X_scaled)\n",
    "    inertia.append(kmeans.inertia_)\n",
    "\n",
    "plt.figure(figsize=(10, 6))\n",
    "plt.plot(range(1, 11), inertia, marker='o')\n",
    "plt.xlabel('Number of clusters')\n",
    "plt.ylabel('Inertia')\n",
    "plt.title('Elbow Method for Optimal K')\n",
    "plt.show()"
   ]
  },
  {
   "cell_type": "markdown",
   "id": "6a9a67bd",
   "metadata": {},
   "source": [
    "## Conclusion\n",
    "\n",
    "In this notebook, we explored various unsupervised learning techniques using the Iris dataset:\n",
    "\n",
    "1. **Dimensionality Reduction**:\n",
    "   - PCA successfully reduced the 4-dimensional data to 2 dimensions while preserving most of the variance\n",
    "   - The 2D visualization shows clear separation between the three species\n",
    "\n",
    "2. **Clustering Algorithms**:\n",
    "   - K-means clustering performed well, finding clusters that closely match the true species\n",
    "   - DBSCAN found two main clusters, which is reasonable given the overlap between two species\n",
    "   - Hierarchical clustering also performed well, finding clusters similar to K-means\n",
    "\n",
    "3. **Model Evaluation**:\n",
    "   - K-means and hierarchical clustering had similar performance\n",
    "   - The elbow method suggests that 3 clusters is indeed the optimal number for this dataset\n",
    "\n",
    "4. **Key Insights**:\n",
    "   - The Iris dataset is well-suited for clustering analysis\n",
    "   - The three species form natural clusters in the feature space\n",
    "   - Dimensionality reduction helps visualize the clustering structure\n",
    "\n",
    "This notebook serves as a good starting point for understanding unsupervised learning techniques and their application to real-world datasets. "
   ]
  }
 ],
 "metadata": {
  "jupytext": {
   "cell_metadata_filter": "-all",
   "main_language": "python",
   "notebook_metadata_filter": "-all"
  }
 },
 "nbformat": 4,
 "nbformat_minor": 5
}
